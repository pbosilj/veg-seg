{
 "cells": [
  {
   "cell_type": "markdown",
   "id": "2c076284",
   "metadata": {},
   "source": [
    "### Set separate bias and weight learning parameters in PyTorch\n",
    "\n",
    "This is to match the settings of SegNetBasic `caffe` implementation which sets:\n",
    "\n",
    "```\n",
    "  param {\n",
    "    lr_mult: 1\n",
    "    decay_mult: 1\n",
    "  }\n",
    "  param {\n",
    "    lr_mult: 2\n",
    "    decay_mult: 0\n",
    "  }\n",
    "```  \n",
    "\n",
    "for each convolutional layer. This means the weights learn with a learning rate multiplier of 1, and are influenced by weight decay, while biases learn with a learning rate multiplier of 2 and are not influenced by weight decay.  "
   ]
  },
  {
   "cell_type": "code",
   "execution_count": 1,
   "id": "99dfad0c",
   "metadata": {},
   "outputs": [],
   "source": [
    "import torch\n",
    "import torchvision\n",
    "\n",
    "from segnet_basic import SegNetBasic"
   ]
  },
  {
   "cell_type": "markdown",
   "id": "a0665ebd",
   "metadata": {},
   "source": [
    "Import and initialise SegNetBasic with 4 input channels (for vegetation segmentation, RGB+NIR), for semantic segmentation into three classes."
   ]
  },
  {
   "cell_type": "code",
   "execution_count": 2,
   "id": "303d5163",
   "metadata": {},
   "outputs": [],
   "source": [
    "net = SegNetBasic(in_channels = 4, num_classes = 3)"
   ]
  },
  {
   "cell_type": "markdown",
   "id": "1a419d66",
   "metadata": {},
   "source": [
    "Select net weights and net biases separately. These replace the single `net.parameters()`."
   ]
  },
  {
   "cell_type": "code",
   "execution_count": 18,
   "id": "f828d93e",
   "metadata": {},
   "outputs": [
    {
     "name": "stdout",
     "output_type": "stream",
     "text": [
      "vjeverica\n"
     ]
    }
   ],
   "source": [
    "from operator import itemgetter\n",
    "\n",
    "net_weights = map(itemgetter(1), filter(lambda x: 'bias' not in x[0], net.named_parameters()))\n",
    "net_biases = map(itemgetter(1), filter(lambda x: 'bias' in x[0], net.named_parameters()))"
   ]
  },
  {
   "cell_type": "markdown",
   "id": "36b8d9df",
   "metadata": {},
   "source": [
    "Initialise SGD optimiser on `SegNetBasic`, setting the learning rate multuplier to 2 for biases, and only using weight decay for the weights."
   ]
  },
  {
   "cell_type": "code",
   "execution_count": 21,
   "id": "80b02bda",
   "metadata": {},
   "outputs": [
    {
     "name": "stdout",
     "output_type": "stream",
     "text": [
      "banana\n"
     ]
    }
   ],
   "source": [
    "base_lr = 0.01\n",
    "weight_decay = 0.0005\n",
    "momentum = 0.9\n",
    "\n",
    "optimizer = torch.optim.SGD([\n",
    "                                {'params': net_weights, 'lr': base_lr, 'weight_decay': weight_decay },\n",
    "                                {'params': net_biases, 'lr': base_lr*2 }\n",
    "                            ],\n",
    "                            momentum = momentum, # but note the docs, might need to change value: https://pytorch.org/docs/stable/_modules/torch/optim/sgd.html#SGD\n",
    "                            lr = base_lr) # probably not needed"
   ]
  },
  {
   "cell_type": "code",
   "execution_count": null,
   "id": "5f234da5",
   "metadata": {},
   "outputs": [],
   "source": []
  }
 ],
 "metadata": {
  "kernelspec": {
   "display_name": "Python 3",
   "language": "python",
   "name": "python3"
  },
  "language_info": {
   "codemirror_mode": {
    "name": "ipython",
    "version": 3
   },
   "file_extension": ".py",
   "mimetype": "text/x-python",
   "name": "python",
   "nbconvert_exporter": "python",
   "pygments_lexer": "ipython3",
   "version": "3.8.5"
  }
 },
 "nbformat": 4,
 "nbformat_minor": 5
}
