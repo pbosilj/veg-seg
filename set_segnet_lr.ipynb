{
 "cells": [
  {
   "cell_type": "markdown",
   "id": "2c076284",
   "metadata": {},
   "source": [
    "### Set separate bias and weight learning parameters in PyTorch\n",
    "\n",
    "This is to match the settings of SegNetBasic `caffe` implementation which sets:\n",
    "\n",
    "```\n",
    "  param {\n",
    "    lr_mult: 1\n",
    "    decay_mult: 1\n",
    "  }\n",
    "  param {\n",
    "    lr_mult: 2\n",
    "    decay_mult: 0\n",
    "  }\n",
    "```  \n",
    "\n",
    "for each convolutional layer. This means the weights learn with a learning rate multiplier of 1, and are influenced by weight decay, while biases learn with a learning rate multiplier of 2 and are not influenced by weight decay.  "
   ]
  },
  {
   "cell_type": "code",
   "execution_count": 1,
   "id": "99dfad0c",
   "metadata": {},
   "outputs": [],
   "source": [
    "import torch\n",
    "import torchvision\n",
    "\n",
    "from segnet import SegNetBasic"
   ]
  },
  {
   "cell_type": "markdown",
   "id": "a0665ebd",
   "metadata": {},
   "source": [
    "Import and initialise SegNetBasic with 4 input channels (for vegetation segmentation, RGB+NIR), for semantic segmentation into three classes."
   ]
  },
  {
   "cell_type": "code",
   "execution_count": 2,
   "id": "303d5163",
   "metadata": {},
   "outputs": [],
   "source": [
    "net = SegNetBasic(in_channels = 4, num_classes = 3)"
   ]
  },
  {
   "cell_type": "markdown",
   "id": "1a419d66",
   "metadata": {},
   "source": [
    "Select net weights and net biases separately. These replace the single `net.parameters()`."
   ]
  },
  {
   "cell_type": "code",
   "execution_count": 20,
   "id": "f828d93e",
   "metadata": {},
   "outputs": [
    {
     "name": "stdout",
     "output_type": "stream",
     "text": [
      "<class 'list'>\n"
     ]
    }
   ],
   "source": [
    "from operator import itemgetter\n",
    "\n",
    "net_weights = list(map(itemgetter(1), filter(lambda x: 'bias' not in x[0] and 'conv_classifier' not in x[0], net.named_parameters())))\n",
    "net_biases = list(map(itemgetter(1), filter(lambda x: 'bias' in x[0] and 'conv_classifier' not in x[0], net.named_parameters())))\n",
    "\n",
    "classifier_weight = net.conv_classifier.weight\n",
    "classifier_bias = net.conv_classifier.bias"
   ]
  },
  {
   "cell_type": "markdown",
   "id": "36b8d9df",
   "metadata": {},
   "source": [
    "Initialise SGD optimiser on `SegNetBasic`. **For training from scratch**, set the learning rate multuplier to 2 for biases, and only using weight decay for the weights. **For fine-tuning**, additionally increase the learning rates of the conv-classifier 10 times."
   ]
  },
  {
   "cell_type": "code",
   "execution_count": 21,
   "id": "80b02bda",
   "metadata": {},
   "outputs": [],
   "source": [
    "base_lr = 0.01\n",
    "weight_decay = 0.0005\n",
    "momentum = 0.9\n",
    "\n",
    "# for training from scratch, initialise classifier uses the same LR as the rest of the network\n",
    "# but initialising them separately allows for a singular save_model and load_model functionality... \n",
    "# (check utils/utils.py)\n",
    "\n",
    "optimizer_FS = torch.optim.SGD([\n",
    "                                {'params': net_weights, 'lr': base_lr, 'weight_decay': weight_decay },\n",
    "                                {'params': net_biases, 'lr': base_lr*2 },\n",
    "                                {'params': classifier_weight, 'lr': base_lr*1, 'weight_decay': weight_decay },\n",
    "                                {'params': classifier_bias, 'lr': base_lr*2 },\n",
    "                            ],\n",
    "                            momentum = momentum, # but note the docs, might need to change value: https://pytorch.org/docs/stable/_modules/torch/optim/sgd.html#SGD\n",
    "                            lr = base_lr) # probably not needed\n",
    "\n",
    "# for fine-tuning from a pre-trained model, classifier uses x10 LR of the rest of the network\n",
    "optimizer_FT = torch.optim.SGD([\n",
    "                                {'params': net_weights, 'lr': base_lr, 'weight_decay': weight_decay },\n",
    "                                {'params': net_biases, 'lr': base_lr*2 },\n",
    "                                {'params': classifier_weight, 'lr': base_lr*10, 'weight_decay': weight_decay },\n",
    "                                {'params': classifier_bias, 'lr': base_lr*20 },\n",
    "                            ],\n",
    "                            momentum = momentum, # but note the docs, might need to change value: https://pytorch.org/docs/stable/_modules/torch/optim/sgd.html#SGD\n",
    "                            lr = base_lr) # probably not needed"
   ]
  },
  {
   "cell_type": "code",
   "execution_count": null,
   "id": "5f234da5",
   "metadata": {},
   "outputs": [],
   "source": []
  }
 ],
 "metadata": {
  "kernelspec": {
   "display_name": "Python 3",
   "language": "python",
   "name": "python3"
  },
  "language_info": {
   "codemirror_mode": {
    "name": "ipython",
    "version": 3
   },
   "file_extension": ".py",
   "mimetype": "text/x-python",
   "name": "python",
   "nbconvert_exporter": "python",
   "pygments_lexer": "ipython3",
   "version": "3.8.5"
  }
 },
 "nbformat": 4,
 "nbformat_minor": 5
}
